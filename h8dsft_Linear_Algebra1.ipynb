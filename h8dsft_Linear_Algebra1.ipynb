{
 "cells": [
  {
   "attachments": {},
   "cell_type": "markdown",
   "metadata": {},
   "source": [
    "# NON GRADED CHALLENGE 4"
   ]
  },
  {
   "cell_type": "code",
   "execution_count": 1,
   "metadata": {},
   "outputs": [],
   "source": [
    "# Import Library\n",
    "import numpy as np\n",
    "import matplotlib as plt"
   ]
  },
  {
   "attachments": {},
   "cell_type": "markdown",
   "metadata": {},
   "source": [
    "### 1. Buatlah vektor di bawah ini dengan Python \n",
    "\n",
    "(17,22,19)\n"
   ]
  },
  {
   "cell_type": "code",
   "execution_count": 4,
   "metadata": {},
   "outputs": [],
   "source": [
    "# Pendefinisian Vector\n",
    "\n",
    "vect = np.array([17, 22, 19])"
   ]
  },
  {
   "cell_type": "code",
   "execution_count": 5,
   "metadata": {},
   "outputs": [
    {
     "data": {
      "text/plain": [
       "array([17, 22, 19])"
      ]
     },
     "execution_count": 5,
     "metadata": {},
     "output_type": "execute_result"
    }
   ],
   "source": [
    "vect"
   ]
  },
  {
   "attachments": {},
   "cell_type": "markdown",
   "metadata": {},
   "source": [
    "### 2. Diberikan 3 buah vektor dimensi :\n",
    "A = (17,22,19)\n",
    "B = (10,20,11)\n",
    "C = (5,12,9)\n",
    "\n",
    "\n",
    "Hitunglah :\n",
    "- A + B\n",
    "- B - C\n",
    "- A dot C\n",
    "- A x B\n",
    "- norm A\n",
    "- Sudut antara vektor A dan B"
   ]
  },
  {
   "cell_type": "code",
   "execution_count": 6,
   "metadata": {},
   "outputs": [],
   "source": [
    "A = np.array([17, 22, 19])\n",
    "B = np.array([10, 20, 11])\n",
    "C = np.array([5, 12, 9])"
   ]
  },
  {
   "cell_type": "code",
   "execution_count": 7,
   "metadata": {},
   "outputs": [
    {
     "name": "stdout",
     "output_type": "stream",
     "text": [
      "A + B :  [27 42 30]\n",
      "\n",
      "B - C:  [5 8 2]\n",
      "\n",
      "A dot C :  520\n",
      "\n",
      "A x B :  [170 440 209]\n",
      "\n",
      "norm A :  33.67491648096547\n",
      "\n",
      "Sudut antara vektor A dan B \n",
      "\n",
      "12.588900662180242\n"
     ]
    }
   ],
   "source": [
    "print('A + B : ', A + B)\n",
    "print('')\n",
    "print('B - C: ', B - C)\n",
    "print('')\n",
    "print('A dot C : ', A @ C)\n",
    "print('')\n",
    "print('A x B : ', A * B)\n",
    "print('')\n",
    "print('norm A : ', np.linalg.norm(A))\n",
    "print('')\n",
    "print('Sudut antara vektor A dan B \\n')\n",
    "cos_theta = (A @ B) / (np.linalg.norm(A) * np.linalg.norm(B))\n",
    "radian = np.arccos(cos_theta)\n",
    "degree = np.degrees(radian)\n",
    "print(degree)"
   ]
  },
  {
   "attachments": {},
   "cell_type": "markdown",
   "metadata": {},
   "source": [
    "### 3. Buatlah plot dari vektor berikut ini ke dalam bidang 2D (NOT YET)\n",
    "\n",
    "u = (2,5)\n",
    "v = (3,1)"
   ]
  }
 ],
 "metadata": {
  "kernelspec": {
   "display_name": "base",
   "language": "python",
   "name": "python3"
  },
  "language_info": {
   "codemirror_mode": {
    "name": "ipython",
    "version": 3
   },
   "file_extension": ".py",
   "mimetype": "text/x-python",
   "name": "python",
   "nbconvert_exporter": "python",
   "pygments_lexer": "ipython3",
   "version": "3.10.10"
  },
  "orig_nbformat": 4
 },
 "nbformat": 4,
 "nbformat_minor": 2
}
